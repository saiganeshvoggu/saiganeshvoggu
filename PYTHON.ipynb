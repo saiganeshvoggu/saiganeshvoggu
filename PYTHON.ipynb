{
  "nbformat": 4,
  "nbformat_minor": 0,
  "metadata": {
    "colab": {
      "name": "PYTHON.ipynb",
      "provenance": [],
      "collapsed_sections": []
    },
    "kernelspec": {
      "name": "python3",
      "display_name": "Python 3"
    },
    "language_info": {
      "name": "python"
    }
  },
  "cells": [
    {
      "cell_type": "markdown",
      "metadata": {
        "id": "6NlOUUQpVdiO"
      },
      "source": [
        "**ARITHMETIC**"
      ]
    },
    {
      "cell_type": "code",
      "metadata": {
        "id": "hm0UWIpRTs_K"
      },
      "source": [
        "#Aithemetic\n",
        "\n",
        "a=int(input(\"enter number one : \"))\n",
        "b=int(input(\"enter number two : \"))\n",
        "add=a+b\n",
        "sub=a-b\n",
        "div=a/b\n",
        "mul=a*b\n",
        "mod=a%b\n",
        "print(\"add: {0},sub: {1},div: {2},mul: {3},mod: {4}\" .format(add,sub,div,mul,mod))\n",
        "print(\"add: %d\" %(add))\n",
        "print(\"     \")\n",
        "print(\"{0:<4} | {1:<4}\" .format('add','sub'))\n",
        "print(\"{0:<4} | {1:<4}\" .format(add,sub))\n",
        "pow=a**b\n",
        "print(pow)"
      ],
      "execution_count": null,
      "outputs": []
    },
    {
      "cell_type": "markdown",
      "metadata": {
        "id": "tYefr6kuVzdA"
      },
      "source": [
        "**STRINGS**"
      ]
    },
    {
      "cell_type": "code",
      "metadata": {
        "id": "-n1LGvGYZkze"
      },
      "source": [
        "#strings\n",
        "\n",
        "a=\"python\"\n",
        "print(len(a))\n",
        "b=a*3\n",
        "print(b)\n",
        "print(\"     \")\n",
        "print(a[1]) #element based on index\n",
        "print(a[::-1])#element string backwards\n",
        "print(a[::2])#element based on everything with two steps\n",
        "print(a[-1])#element based on last element\n",
        "print(a[:1])#element upto the index\n",
        "print(a[1:])#element remaning except upto the index\n",
        "\n",
        "print(\"   \")\n",
        "\n",
        "print(a.upper())#upper case\n",
        "print(a.lower())#lower case\n",
        "\n",
        "b=a.split()#split function\n",
        "c=\"elon,musk,billioner\"\n",
        "d=c.split(\",\")#split based on delimitter\n",
        "print(b)\n",
        "print(b[0][1])\n",
        "print(d)\n"
      ],
      "execution_count": null,
      "outputs": []
    },
    {
      "cell_type": "markdown",
      "metadata": {
        "id": "7bZspYx8VnVf"
      },
      "source": [
        "**LISTS**"
      ]
    },
    {
      "cell_type": "code",
      "metadata": {
        "id": "VAFiWBUQc6S0"
      },
      "source": [
        "#List\n",
        "\n",
        "a=[1,2,3,4,5]\n",
        "b=['champ',21,9.0,5]\n",
        "print(a,b)\n",
        "print(len(b))#length of list\n",
        "print(b[0])#locate list element based on index\n",
        "print(a[1:])#print elements except list\n",
        "print(a[:2])#print elements upto 2nd element\n",
        "print(a+b)#concat\n",
        "\n",
        "print(\"   \")\n",
        "a.append(6)#insert element\n",
        "print(a)\n",
        "a.reverse()#reverse list\n",
        "a\n",
        "print(\"  \")\n",
        "print(min(a))\n",
        "print(max(a))\n",
        "\n",
        "#shuffle\n",
        "from random import shuffle\n",
        "shuffle(a)\n",
        "print(a)\n",
        "print(\"      \")\n",
        "\n",
        "c=[a,b]\n",
        "print(c)\n",
        "print(c[0])\n",
        "print(c[1][2])"
      ],
      "execution_count": null,
      "outputs": []
    },
    {
      "cell_type": "markdown",
      "metadata": {
        "id": "5YM7bNQ1V4wv"
      },
      "source": [
        "**DICTIONARY**"
      ]
    },
    {
      "cell_type": "code",
      "metadata": {
        "id": "H4Hp26IXe0Uy"
      },
      "source": [
        "#Dictionary\n",
        "\n",
        "a={\"name\":\"elon\",\"age\":50,\"company\":[\"tesla\",\"sapaceX\"]}\n",
        "print(a)\n",
        "print(a[\"name\"])#value based on key\n",
        "a[\"age\"]=51 #changing values\n",
        "print(a) \n",
        "\n",
        "\n",
        "print(\"\")\n",
        "#multi dimensional dictionary \n",
        "b={\"climate\":{\"condition\":{\"temperature\":\"38 degree\",\"humidity\":\"70 percentage\"}}}\n",
        "print(b[\"climate\"][\"condition\"][\"temperature\"])\n",
        "print(b[\"climate\"][\"condition\"][\"humidity\"])\n",
        "\n",
        "print(\"\")\n",
        "print(a.keys())#keys in dict\n",
        "print(a.values())#values in dict\n",
        "print(a.items())#key value pairs in dict"
      ],
      "execution_count": null,
      "outputs": []
    },
    {
      "cell_type": "markdown",
      "metadata": {
        "id": "F76K3Q_RV83o"
      },
      "source": [
        "**TUPLES**\n"
      ]
    },
    {
      "cell_type": "code",
      "metadata": {
        "id": "xftGuOvcgmPv"
      },
      "source": [
        "#Tuples\n",
        "\n",
        "a=(\"champ\",21,99.5)\n",
        "print(a)\n",
        "\n",
        "print(len(a))#length of tuple\n",
        "print(a[0])#elements from tuple via index\n",
        "print(a.index(\"champ\"))#getting index of elements"
      ],
      "execution_count": null,
      "outputs": []
    },
    {
      "cell_type": "markdown",
      "metadata": {
        "id": "OyS-uTcKWDJe"
      },
      "source": [
        "**SETS**\n"
      ]
    },
    {
      "cell_type": "code",
      "metadata": {
        "id": "369RYELzUG6G"
      },
      "source": [
        "#sets\n",
        "\n",
        "a=set()\n",
        "print(a)\n",
        "print(type(a))\n",
        "a.add(\"champ\")\n",
        "print(a)\n",
        "a.add(30)\n",
        "print(a)\n",
        "b={\"champ\",10,2.0,3}\n",
        "print(b)"
      ],
      "execution_count": null,
      "outputs": []
    },
    {
      "cell_type": "markdown",
      "metadata": {
        "id": "Nheh9aBzW3Dm"
      },
      "source": [
        "**BOOLEAN**\n"
      ]
    },
    {
      "cell_type": "code",
      "metadata": {
        "id": "BJ_pYHNtW2il"
      },
      "source": [
        "a=10\n",
        "b=100\n",
        "print(a<b)\n",
        "print(a>b)\n",
        "#(<,>,==,!=,<=,>=,and,or,etc)"
      ],
      "execution_count": null,
      "outputs": []
    },
    {
      "cell_type": "markdown",
      "metadata": {
        "id": "mPv-tgtcXUf7"
      },
      "source": [
        "**PYTHON STATEMNTS**"
      ]
    },
    {
      "cell_type": "code",
      "metadata": {
        "id": "FNyOhN1GXau-"
      },
      "source": [
        "#if else\n",
        "\n",
        "a=True\n",
        "if a:\n",
        "   print(\"positive\")\n",
        "else:\n",
        "  print(\"negative\")"
      ],
      "execution_count": null,
      "outputs": []
    },
    {
      "cell_type": "code",
      "metadata": {
        "id": "Z1g2kq69X9Ss"
      },
      "source": [
        "a=int(input(\"enter a : \"))\n",
        "b=int(input(\"enter b : \"))\n",
        "c=int(input(\"enter c : \"))\n",
        "print(\" \")\n",
        "if (a>=b) and (a>=c):\n",
        "  print(\"a is largest\")\n",
        "elif (b>=a) and (b>=c):\n",
        "  print(\"b is largest\")\n",
        "else:\n",
        "  print(\"c is largest\")"
      ],
      "execution_count": null,
      "outputs": []
    },
    {
      "cell_type": "code",
      "metadata": {
        "id": "r7BtvLAqZgfr"
      },
      "source": [
        "#for \n",
        "\n",
        "a=[1,2,3,4,5,6,7,8,9,10]\n",
        "for i in a:\n",
        "  print(i)\n",
        "b=[i for i in a]\n",
        "print(b)\n",
        "c=[x for x in 'champ']\n",
        "c"
      ],
      "execution_count": null,
      "outputs": []
    },
    {
      "cell_type": "code",
      "metadata": {
        "id": "Ai5r0gU6Z6D4"
      },
      "source": [
        "#odd even numbers\n",
        "\n",
        "a=[1,2,3,4,5,6,7,8,9,10]\n",
        "for i in a:\n",
        "  if i%2==0:\n",
        "    print(i,\"even number\")\n",
        "  else:\n",
        "    print(i,\"odd number\")"
      ],
      "execution_count": null,
      "outputs": []
    },
    {
      "cell_type": "code",
      "metadata": {
        "id": "UGVSUJCXbPS0"
      },
      "source": [
        "#string-for\n",
        "\n",
        "for a in \"hello-all\":\n",
        "  print(a)\n",
        "\n",
        "#dictionary-for\n",
        "print(\"\")\n",
        "b={\"name\":\"elon\",\"age\":50,\"company\":[\"tesla\",\"sapaceX\"]}\n",
        "for k,v in b.items():# k=keys, v=values\n",
        "  print(\"keys:\",k)\n",
        "  print(\"values:\",v)"
      ],
      "execution_count": null,
      "outputs": []
    },
    {
      "cell_type": "code",
      "metadata": {
        "id": "d13vhAxycc4e"
      },
      "source": [
        "#while\n",
        "\n",
        "a=0\n",
        "while a<10:\n",
        "  print(a)\n",
        "  a+=1 # a=a+1\n",
        "print(\"------------------------------------\")\n",
        "#while-break & continue\n",
        "b=0\n",
        "while b<10:\n",
        "  print(b)\n",
        "  b+=1 # b=b+1\n",
        "  if b==5:\n",
        "    print(\"a is equal to 5\")\n",
        "    break\n",
        "  else:\n",
        "    print(\"continueee\")\n",
        "    continue\n"
      ],
      "execution_count": null,
      "outputs": []
    },
    {
      "cell_type": "code",
      "metadata": {
        "id": "TuPeFyY2eA3j"
      },
      "source": [
        "#range\n",
        "\n",
        "for a in range(5):\n",
        "  print(a)\n",
        "\n",
        "print(\"--------------------\")\n",
        "\n",
        "for b in range(1,10,2): # can use negative numbers in place of 2\n",
        "  print(b)\n",
        "  \n",
        "print(\"--------------------\")\n",
        "\n",
        "c=[i**2 for i in range(5)] # squares of numbers\n",
        "print(c)\n",
        "print(\"--------------------\")\n",
        "d=[j for j in range(10) if j%2==0]\n",
        "d"
      ],
      "execution_count": null,
      "outputs": []
    },
    {
      "cell_type": "code",
      "metadata": {
        "id": "mtUlzZxOgX2S"
      },
      "source": [
        "# enumerate - to track no.of iteration in the loop,without working with vaiable increment\n",
        "a=0\n",
        "for i,a in enumerate(\"rishinani\"):\n",
        "  print(i,a)\n",
        "\n",
        "print(\"-----------------------------\")\n",
        "\n",
        "#zip-creating a tuples by zipping 2 lists\n",
        "b=[\"NAME\",\"AGE\",\"COUNTRY\"]\n",
        "c=[\"Nani\",23,\"India\"]\n",
        "list(zip(b,c))"
      ],
      "execution_count": null,
      "outputs": []
    },
    {
      "cell_type": "markdown",
      "metadata": {
        "id": "d6UcApKgGIBl"
      },
      "source": [
        "**FUNCTION**\n"
      ]
    },
    {
      "cell_type": "code",
      "metadata": {
        "id": "d_R94uHWGKb6"
      },
      "source": [
        "#initializing and calling basic function\n",
        "def welcome():\n",
        "  print(\"hai\")\n",
        "\n",
        "welcome()\n",
        "\n",
        "#initializing and calling basic function-with argument\n",
        "def wel(a):\n",
        "    print(\"{0},hai\".format(a))\n",
        "\n",
        "wel(\"champ\")"
      ],
      "execution_count": null,
      "outputs": []
    },
    {
      "cell_type": "code",
      "metadata": {
        "id": "YJ2GikPNMJzM"
      },
      "source": [
        "#print and return\n",
        "def add(a,b):\n",
        "  add=a+b\n",
        "  print(\"sum of {0} and {1} is : {2} \" .format(a,b,add))\n",
        "\n",
        "def addr(a,b):\n",
        "  add=a+b\n",
        "  return add\n",
        "\n",
        "add(2,3)\n",
        "addr(4,5)"
      ],
      "execution_count": null,
      "outputs": []
    },
    {
      "cell_type": "code",
      "metadata": {
        "id": "QgXKB8QLSpp-"
      },
      "source": [
        "#map function - iterable object\n",
        "def cubefn(num):\n",
        "  return num**3\n",
        "\n",
        "a=[1,2,3,4,5]\n",
        "list(map(cubefn,a))\n"
      ],
      "execution_count": null,
      "outputs": []
    },
    {
      "cell_type": "code",
      "metadata": {
        "id": "dZzIRADGUSR9"
      },
      "source": [
        "#filter function-yeilds items of iterable in which function is true\n",
        "def evenfn(num):\n",
        "  return num%2==0\n",
        "\n",
        "a=[0,1,2,3,4,5,6,7,8,9,10]\n",
        "print(list(map(evenfn,a)))\n",
        "print(list(filter(evenfn,a)))\n"
      ],
      "execution_count": null,
      "outputs": []
    },
    {
      "cell_type": "code",
      "metadata": {
        "id": "0cKnkFGmVcUH"
      },
      "source": [
        "#lambda fn-to create anonymous functions,without using def\n",
        "\n",
        "#normal fn\n",
        "def cubefn(num):\n",
        "  return num**3\n",
        "\n",
        "cubefn(6)"
      ],
      "execution_count": null,
      "outputs": []
    },
    {
      "cell_type": "code",
      "metadata": {
        "id": "ejyH40qHZ0D7"
      },
      "source": [
        "#lambda\n",
        "cubefun=lambda num:num**3 #only for few functions\n",
        "cubefun(5)"
      ],
      "execution_count": null,
      "outputs": []
    },
    {
      "cell_type": "code",
      "metadata": {
        "id": "x5_4-183EKCS"
      },
      "source": [
        "# *args and **kwargs\n",
        "def addR(a,b,c,d):\n",
        "  add=a+b+c\n",
        "  return add\n",
        "addR(10,20,30,40)"
      ],
      "execution_count": null,
      "outputs": []
    },
    {
      "cell_type": "code",
      "metadata": {
        "id": "UHtpFf2KiLYR"
      },
      "source": [
        "#purpose of args\n",
        "def addRR(*argg): # \"*\" is mandatory in args\n",
        "  return sum(argg)\n",
        "addRR(1,2,3,4,5,6,7,8,9,10) "
      ],
      "execution_count": null,
      "outputs": []
    },
    {
      "cell_type": "code",
      "metadata": {
        "id": "2C_tNKyJkZl5"
      },
      "source": [
        "#purpose of kwargs- dictionary of key/value pairs\n",
        "def func(**kwargs):\n",
        "  if 'name' in kwargs:\n",
        "    print(\"my name is {0}\".format(kwargs['name']))\n",
        "  if 'age' in kwargs:\n",
        "     print(\"my age is {0}\".format(kwargs['age']))\n",
        "  else:\n",
        "    print(\"no key found\")\n",
        "  \n",
        "func(name='champ',age=23)"
      ],
      "execution_count": null,
      "outputs": []
    },
    {
      "cell_type": "markdown",
      "metadata": {
        "id": "Tw3c19o0ljjD"
      },
      "source": [
        "**OOPS**"
      ]
    },
    {
      "cell_type": "code",
      "metadata": {
        "id": "uRTWX9r0ll-2"
      },
      "source": [
        "#user defined objects using class-initializing class\n",
        "class Student:\n",
        "  print(\"hai all\")\n",
        "\n",
        "x=Student() #object instantiation\n",
        "print(type(x))\n",
        "print(\"------------------\")\n",
        "\n",
        "class Student:\n",
        "  def func():\n",
        "    print(\"hai hello\")\n",
        "Student.func()\n",
        "print(\"-------------------\")\n",
        "\n",
        "class Student:\n",
        "  def func(self):\n",
        "    print(\"hai hello namaste\")\n",
        "x=Student()\n",
        "x.func() #object instantiation\n"
      ],
      "execution_count": null,
      "outputs": []
    },
    {
      "cell_type": "code",
      "metadata": {
        "id": "vUPHZztPn3_m"
      },
      "source": [
        "#class object attribute-same for any instance of class\n",
        "class Student:\n",
        "  year='2021' \n",
        "  def func():\n",
        "    print(\"hai\")\n",
        "x=Student()\n",
        "x.year"
      ],
      "execution_count": null,
      "outputs": []
    },
    {
      "cell_type": "code",
      "metadata": {
        "id": "aZMYiogFpXyB"
      },
      "source": [
        "class Student:\n",
        "  year='2021'\n",
        "  def func(self):\n",
        "    print(\"hai\",self.year)\n",
        "x=Student()\n",
        "x.func()"
      ],
      "execution_count": null,
      "outputs": []
    },
    {
      "cell_type": "code",
      "metadata": {
        "id": "xBT2EET1pcCv"
      },
      "source": [
        "#attribute of object(characteristic of an object) Attribute won't take any argument\n",
        "class Student:\n",
        "  def __init__(self,name):  #__init__(method) to initialize attribute of an object(constructor)\n",
        "    self.name=name #self.name = attribute initialized\n",
        "  #(creating instance of Student class {object of certain class})\n",
        "x= Student(name='Elon Musk !') #name:argument\n",
        "\n",
        "print(x.name) #accessing class attribute through object"
      ],
      "execution_count": null,
      "outputs": []
    },
    {
      "cell_type": "code",
      "metadata": {
        "id": "1TfwL0M_of0P"
      },
      "source": [
        "#multiple instances\n",
        "x=Student(name='SaiGaneshVoggu')\n",
        "y=Student(name='Rishitha')\n",
        "\n",
        "print(x.name)\n",
        "print(y.name)"
      ],
      "execution_count": null,
      "outputs": []
    },
    {
      "cell_type": "code",
      "metadata": {
        "id": "gbFcqHqno8v7"
      },
      "source": [
        "#multiple attributes\n",
        "class Student:\n",
        "  def __init__(self,name,age):\n",
        "    self.name=name\n",
        "    self.age=age  \n",
        "x=Student(name='nani',age=23)\n",
        "y=Student(name='puppy',age=23)\n",
        "print(y.name,y.age)\n",
        "print(x.name,x.age)"
      ],
      "execution_count": null,
      "outputs": []
    },
    {
      "cell_type": "code",
      "metadata": {
        "id": "hOqhbVMqpzl1"
      },
      "source": [
        "class Student:\n",
        "  Total=600 \n",
        "\n",
        "  def __init__(self,name,marks,gender):\n",
        "    self.name=name\n",
        "    self.marks=marks\n",
        "    self.gender=gender\n",
        "    print(\"initialized...\")\n",
        "\n",
        "  def __len__(self):\n",
        "    return self.marks\n",
        "  def __str__(self):\n",
        "    return \"name : %s | marks : %s | gender : %s\" %(self.name,self.marks,self.gender)\n",
        "  def __del__(self):\n",
        "    print(\"Student database is deleted\")\n",
        "\n",
        "a=Student(\"SaiGanesh\",573,\"male\")\n",
        "\n",
        "print(a)\n",
        "print(\"Total marks :\",a.Total)\n",
        "print(\"Obtained marks :\",len(a))\n",
        "del a"
      ],
      "execution_count": null,
      "outputs": []
    },
    {
      "cell_type": "markdown",
      "metadata": {
        "id": "TbcMj-0b65V5"
      },
      "source": [
        "**INHERITANCE**"
      ]
    },
    {
      "cell_type": "code",
      "metadata": {
        "id": "mfQ0I_6j69IY"
      },
      "source": [
        "#base class and derived class\n",
        "class sg: #base class\n",
        "  def __init__(self):\n",
        "    print(\"Profile created\")\n",
        "  def name(self):\n",
        "    print(\"SaiGaneshVoggu\")\n",
        "  def age(self):\n",
        "    print(\"23\")\n",
        "\n",
        "class voggu(sg):#derived class\n",
        "  def __init__(self):\n",
        "    sg.__init__(self)\n",
        "    print(\"Company profile created\")\n",
        "  \n",
        "  def name(self):\n",
        "    print(\"VOGGU\")\n",
        "  def type(self):\n",
        "    print(\"World Tech Gaint\")\n",
        "\n",
        "a=voggu() \n",
        "a.name()#derived class modified behaviour of base class\n",
        "a.age()\n",
        "a.type()\n",
        "\n",
        "b=sg()\n",
        "b.name()"
      ],
      "execution_count": null,
      "outputs": []
    },
    {
      "cell_type": "markdown",
      "metadata": {
        "id": "ZbjFx1gz--jj"
      },
      "source": [
        "**POLYMORPHISM**"
      ]
    },
    {
      "cell_type": "code",
      "metadata": {
        "id": "8cjSn7bY_BVg"
      },
      "source": [
        "#In Python, Polymorphism lets us define methods in the child class that have the same name as the methods in the parent class. \n",
        "#In inheritance, the child class inherits the methods from the parent class. \n",
        "#However, it is possible to modify a method in a child class that it has inherited from the parent class.\n",
        "class sg():\n",
        "  def __init__(self,name):\n",
        "    self.name=name\n",
        "  def type(self):\n",
        "    return \"Entrepreneur\"\n",
        "class nani():\n",
        "  def __init__(self,name):\n",
        "    self.name=name\n",
        "  def type(self):\n",
        "    return \"CEO\"\n",
        "\n",
        "person1=sg('SaiGanesh')#name:argument\n",
        "person2=nani('rishi')\n",
        "\n",
        "#returning unique results of objects hich have same method(type)\n",
        "print(person1.type())\n",
        "print(person2.type())\n",
        "print(\"=================\")\n",
        "\n",
        "for i in [person1,person2]: #to call the names and types\n",
        "  print(i.name)\n",
        "  print(i.type())\n",
        "  print(\"***************\")"
      ],
      "execution_count": null,
      "outputs": []
    },
    {
      "cell_type": "markdown",
      "metadata": {
        "id": "s_khrU4ca3jv"
      },
      "source": [
        "**PYTHON DECORATORS**-\n",
        "FUNCTIONS WHICH MODIFY THE FUNCTIONALITY OF ANOTHER FUNCTION/CLASS"
      ]
    },
    {
      "cell_type": "code",
      "metadata": {
        "id": "JjQKF1Hba1_q"
      },
      "source": [
        "'''@decName\n",
        "def func():\n",
        "  print(\"abc\")\n",
        "\n",
        "equals to ========\n",
        "\n",
        "def func():\n",
        "  print(\"abc\")\n",
        "func=decName(func())'''"
      ],
      "execution_count": null,
      "outputs": []
    },
    {
      "cell_type": "code",
      "metadata": {
        "id": "x_LYVvE8czl4"
      },
      "source": [
        "#function as object\n",
        "\n",
        "def wel(a):\n",
        "  print(\"{0}\".format(a))\n",
        "wel(\"hai\")\n",
        "\n",
        "a=wel #no paranthesis,if it is paranthesis it will call function- function as a object\n",
        "a(\"hello\") #acts like object ||note: we can use any name instead of 'a' "
      ],
      "execution_count": null,
      "outputs": []
    },
    {
      "cell_type": "code",
      "metadata": {
        "id": "Q8ZNHH-Adm0s"
      },
      "source": [
        "#functions as variables\n",
        "a(lowercase)#calling the variable\n",
        "a(uppercase)\n",
        "\n",
        "def lowercase(text): #call from a(lowercase) and moves to a(welcome)\n",
        "  return text.lower()\n",
        "def uppercase(text): #call from a(uppercase) and moves to a(welcome)\n",
        "  return text.upper()\n",
        "\n",
        "def a(welcome):\n",
        "  message=welcome(\"Hai all,Welcome to Python Bootcamp\") #function in variable\n",
        "  print(message)"
      ],
      "execution_count": null,
      "outputs": []
    },
    {
      "cell_type": "code",
      "metadata": {
        "id": "l35SGS-zhDGV"
      },
      "source": [
        "#returning function from another function\n",
        "def addmain(a): #child\n",
        "  def addsub(b):#parent =a+b\n",
        "    print(a,b)\n",
        "    return a+b # parent says apple\n",
        "  return addsub #return of the parent is return of child now-apple{child=return(parent)}\n",
        "\n",
        "addition=addmain(100)#here takes a=100\n",
        "print(addition(75))#here takes b=75\n"
      ],
      "execution_count": null,
      "outputs": []
    },
    {
      "cell_type": "code",
      "metadata": {
        "id": "Y3OvH7IEkdSz"
      },
      "source": [
        "#decorators in action\n",
        "def decoratorFunc(welcome):#2.decorator\n",
        "  def a():#3.can access the outer local functions like in this case \"welcome\"\n",
        "    print(\"start\")\n",
        "    welcome()#4.calling actual func\n",
        "    print(\"end\")\n",
        "  return a\n",
        "\n",
        "def subfunc():#veg with cheese\n",
        "  print(\"sub fun\")\n",
        "\n",
        "subfunc=decoratorFunc(subfunc) #1.subfunc inside the decorator to control behaviour\n",
        "                               #subfunc acts a argument in decoratorfunc\n",
        "subfunc()"
      ],
      "execution_count": null,
      "outputs": []
    },
    {
      "cell_type": "code",
      "metadata": {
        "id": "ttbfUxLBqPKn"
      },
      "source": [
        "#python generators\n",
        "def square(n):\n",
        "  for i in range(n):\n",
        "    yield i**2\n",
        "\n",
        "for n in square(10):\n",
        "  print(n)"
      ],
      "execution_count": null,
      "outputs": []
    },
    {
      "cell_type": "code",
      "metadata": {
        "id": "a9D8GDJUrSaq"
      },
      "source": [
        "#builtin function- next\n",
        "def square(n):\n",
        "  for i in range(n):\n",
        "    yield i**2\n",
        "\n",
        "a=square(2)"
      ],
      "execution_count": null,
      "outputs": []
    },
    {
      "cell_type": "code",
      "metadata": {
        "id": "lgk3Lkn6sFHF"
      },
      "source": [
        "print(next(a)) #after yeilding all the next() caused a StopIteration error"
      ],
      "execution_count": null,
      "outputs": []
    },
    {
      "cell_type": "code",
      "metadata": {
        "id": "_PRAC-2FsIW-"
      },
      "source": [
        "#builtin function - iter\n",
        "a=\"champ\"\n",
        "for i in a:\n",
        "  print(i)"
      ],
      "execution_count": null,
      "outputs": []
    },
    {
      "cell_type": "markdown",
      "metadata": {
        "id": "Aj4gS2juCBBq"
      },
      "source": [
        "**PYTHON MODULES:**"
      ]
    },
    {
      "cell_type": "code",
      "metadata": {
        "id": "Y6MqW7EDCNfS"
      },
      "source": [
        "#Accessing one python program from another program\n",
        "\n",
        "import main #importing python file\n",
        "main.welcome()#file_name.function_name()\n",
        "x=main.a#file_name.variable_name\n",
        "y=main.b\n",
        "print(x+y)"
      ],
      "execution_count": null,
      "outputs": []
    },
    {
      "cell_type": "code",
      "metadata": {
        "id": "yhFKuo3zEb2C"
      },
      "source": [
        "#Accessing python program from another python program present in another folder\n",
        "\n",
        "from sample_data.DEMO import main\n",
        "main.welcome()#file_name.function_name()\n",
        "x=main.a#file_name.variable_name\n",
        "y=main.b\n",
        "print(x+y)"
      ],
      "execution_count": null,
      "outputs": []
    },
    {
      "cell_type": "markdown",
      "metadata": {
        "id": "Zbhwj8Y1FEYK"
      },
      "source": [
        "**TRY EXCEPT FINALLY**"
      ]
    },
    {
      "cell_type": "code",
      "metadata": {
        "id": "i_FZEHWCFHIG"
      },
      "source": [
        " for i in range(3,-3,-1):\n",
        "   try:\n",
        "     print(1.0/i)\n",
        "   except ZeroDivisionError:\n",
        "     print(\"You are trying to divide by zero, U IDIOT\")"
      ],
      "execution_count": null,
      "outputs": []
    },
    {
      "cell_type": "code",
      "metadata": {
        "id": "N45lo6LNGZ-Q"
      },
      "source": [
        "for i in range(3,-3,-1):\n",
        "   try:\n",
        "     print(1.0/i)\n",
        "   except ZeroDivisionError as er:\n",
        "     print(\"zero division error :\", str(er.args[0])) #exact eror can be known by str(er.args[0])"
      ],
      "execution_count": null,
      "outputs": []
    },
    {
      "cell_type": "code",
      "metadata": {
        "id": "omto7q21Lmxy"
      },
      "source": [
        "def check():\n",
        "  while True:\n",
        "    try:\n",
        "      a=int(input(\"enter a : \"))\n",
        "      b=int(input(\"enter b : \"))\n",
        "    except:\n",
        "      print(\"you did not enter number\")\n",
        "      continue\n",
        "    else:\n",
        "      print(\"yes its number\")\n",
        "      break\n",
        "    finally:\n",
        "      print(\"execution successful\")\n",
        "      print(a+b)\n",
        "    \n",
        "check()"
      ],
      "execution_count": null,
      "outputs": []
    },
    {
      "cell_type": "markdown",
      "metadata": {
        "id": "dImiPvQ7RofZ"
      },
      "source": [
        "**IMPORTING LIBRARY**"
      ]
    },
    {
      "cell_type": "code",
      "metadata": {
        "id": "YslkWctmO3s0"
      },
      "source": [
        " #import libraryname (import math)\n",
        "\n",
        "#install a library\n",
        "!pip install imutils # library_name( \"!\" only while executing in colab,it is not needed in command window)"
      ],
      "execution_count": null,
      "outputs": []
    },
    {
      "cell_type": "code",
      "metadata": {
        "id": "KUyG2pZuSr4G"
      },
      "source": [
        "#uninstall library\n",
        "!pip uninstall imutils #library_name"
      ],
      "execution_count": null,
      "outputs": []
    },
    {
      "cell_type": "code",
      "metadata": {
        "id": "U5vEuO-dS7JI"
      },
      "source": [
        "#install library based on version\n",
        "!pip install imutils==0.5.4 # \"==\" version_number"
      ],
      "execution_count": null,
      "outputs": []
    },
    {
      "cell_type": "code",
      "metadata": {
        "id": "3_DG1c1_TOr0"
      },
      "source": [
        "#checking installed library version\n",
        "import imutils\n",
        "imutils.__version__ #library_name.__version__"
      ],
      "execution_count": null,
      "outputs": []
    },
    {
      "cell_type": "markdown",
      "metadata": {
        "id": "KCQfP0J6UBPd"
      },
      "source": [
        "**PLAYING WITH LIBRARIES**"
      ]
    },
    {
      "cell_type": "code",
      "metadata": {
        "id": "et-PNhFSTadt"
      },
      "source": [
        "#math library\n",
        "import math\n",
        "print(dir(math))\n",
        "print(math.pi)"
      ],
      "execution_count": null,
      "outputs": []
    },
    {
      "cell_type": "code",
      "metadata": {
        "id": "7ERYyhL9UG_J"
      },
      "source": [
        "# REDUCE\n",
        "from functools import reduce\n",
        "\n",
        "lst=[47,11,42,13]\n",
        "reduce(lambda x,y:x+y,lst) #The reduce(fun,seq) function is used to apply a particular function passed in its argument to all of the list elements,\n",
        "                           # mentioned in the sequence passed along.\n",
        "                           #This function is defined in “functools” module."
      ],
      "execution_count": null,
      "outputs": []
    },
    {
      "cell_type": "code",
      "metadata": {
        "id": "5mqMNhEEUkdX"
      },
      "source": [
        "# IPython\n",
        "\n",
        "from IPython.display import Image\n",
        "Image('https://venturebeat.com/wp-content/uploads/2018/09/ironman.jpg') #used to display images"
      ],
      "execution_count": null,
      "outputs": []
    },
    {
      "cell_type": "code",
      "metadata": {
        "id": "4S90vqbxZfUz"
      },
      "source": [
        "#filter\n",
        "\n",
        "def check(num):\n",
        "  if num%2==0:\n",
        "    return True\n",
        "lst=range(20) #starts from [0 to 19]\n",
        "list(filter(check,lst)) #The filter() method filters the given sequence with the help of a function\n",
        "                        #that tests each element in the sequence to be true or not."
      ],
      "execution_count": null,
      "outputs": []
    },
    {
      "cell_type": "markdown",
      "metadata": {
        "id": "PlrGP5Taa5XG"
      },
      "source": [
        "**WORKING** **WITH** **DIRECTORIES**"
      ]
    },
    {
      "cell_type": "code",
      "metadata": {
        "id": "D01_SHiMemDs"
      },
      "source": [
        "from google.colab import drive\n",
        "drive.mount('/content/drive')"
      ],
      "execution_count": null,
      "outputs": []
    }
  ]
}