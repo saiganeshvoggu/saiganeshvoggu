{
  "nbformat": 4,
  "nbformat_minor": 0,
  "metadata": {
    "colab": {
      "name": "PROJECTS.ipynb",
      "provenance": [],
      "collapsed_sections": []
    },
    "kernelspec": {
      "name": "python3",
      "display_name": "Python 3"
    },
    "language_info": {
      "name": "python"
    }
  },
  "cells": [
    {
      "cell_type": "code",
      "metadata": {
        "id": "yDvw1lZNjzRu",
        "colab": {
          "base_uri": "https://localhost:8080/"
        },
        "outputId": "f5164ad4-5a72-49af-a9da-b3e28e8dcfed"
      },
      "source": [
        "a= int(input(\"Enter any 3 non-similar digits number: \"))  \n",
        "b = 0    # initial value is 0. It will hold the reversed number  \n",
        "def recur_reverse(a):  \n",
        "    global b   # We can use it out of the function  \n",
        "    if (a > 0):  \n",
        "        Reminder = a % 10  \n",
        "        b = (b * 10) + Reminder  \n",
        "        recur_reverse(a // 10)  \n",
        "    return b \n",
        "  \n",
        "  \n",
        "b= recur_reverse(a)  \n",
        "print(b) \n",
        "print(\"****************************************\")\n",
        "\n",
        "if a>b:\n",
        "  res=a-b\n",
        "else:\n",
        "  res=b-a\n",
        "print(res)\n",
        "\n",
        "\n",
        "f = 0    # initial value is 0. It will hold the reversed number  \n",
        "def recur_reverse(res):  \n",
        "    global f   # We can use it out of the function  \n",
        "    if (res > 0):  \n",
        "        Reminder = res % 10  \n",
        "        f = (f * 10) + Reminder  \n",
        "        recur_reverse(res// 10)  \n",
        "    return f\n",
        "f= recur_reverse(res) \n",
        "print(f) \n",
        "print(\"****************************************\")\n",
        "add=res+f\n",
        "print(add)"
      ],
      "execution_count": null,
      "outputs": [
        {
          "output_type": "stream",
          "name": "stdout",
          "text": [
            "Enter any 3 non-similar digits number: 178\n",
            "871\n",
            "****************************************\n",
            "693\n",
            "396\n",
            "****************************************\n",
            "1089\n"
          ]
        }
      ]
    },
    {
      "cell_type": "markdown",
      "metadata": {
        "id": "aueDU25lMyXC"
      },
      "source": [
        "PRACTICE PROJECT"
      ]
    },
    {
      "cell_type": "code",
      "metadata": {
        "id": "IuKWYCzwMxjj"
      },
      "source": [
        "def check(numbers):\n",
        "  primenumber=[]\n",
        "  for number in numbers:\n",
        "    if number>1:\n",
        "      for i in range(2,int(number/2)+1):\n",
        "        if (number%i)==0: #if number is divisible by any number between 2 and number/2, it is nt prime\n",
        "            print(number,\"it is not prime\")\n",
        "            break\n",
        "      else:\n",
        "          print(number,\"it is prime\")\n",
        "          primenumber.append(number)\n",
        "    else:\n",
        "        pass\n",
        "  return primenumber\n",
        "  \n",
        "check([2,3,4,5,6,7,8,9,10,11])"
      ],
      "execution_count": null,
      "outputs": []
    },
    {
      "cell_type": "code",
      "metadata": {
        "id": "b8-wgu0JSaZO"
      },
      "source": [
        "# Python program to check if\n",
        "# given number is prime or not\n",
        "\n",
        "num = int(input(\"enter the number:\"))\n",
        "\n",
        "# If given number is greater than 1\n",
        "if num > 1:\n",
        "\n",
        "\t# Iterate from 2 to n / 2\n",
        "\tfor i in range(2, int(num/2)+1):\n",
        "\n",
        "\t\t# If num is divisible by any number between\n",
        "\t\t# 2 and n / 2, it is not prime\n",
        "\t\tif (num % i) == 0:\n",
        "\t\t\tprint(num, \"is not a prime number\")\n",
        "\t\t\tbreak\n",
        "\telse:\n",
        "\t\tprint(num, \"is a prime number\")\n",
        "\n",
        "else:\n",
        "\tprint(num, \"is not a prime number\")\n"
      ],
      "execution_count": null,
      "outputs": []
    },
    {
      "cell_type": "code",
      "metadata": {
        "id": "94MQUbMIqAwt"
      },
      "source": [
        "#find perdentage and marks loss\n",
        "class Student:\n",
        "  Total=500 \n",
        "\n",
        "  def __init__(self,marks):\n",
        "    self.marks=marks\n",
        "    print(\"initialized...\")\n",
        "  \n",
        "  def findLoss(self):\n",
        "    return (self.Total - self.marks)\n",
        "\n",
        "  def findPercentage(self):\n",
        "    return (self.marks/self.Total)*100\n",
        "\n",
        "marks=int(input(\"marks scored : \"))\n",
        "a=Student(marks)\n",
        "\n",
        "print(\"total marks :\",a.Total)\n",
        "print(\"Loss marks\",a.findLoss()) #both findLoss & findPercntage are fuunctions we use paranthesis\n",
        "print(\"Total percentage\",a.findPercentage())"
      ],
      "execution_count": null,
      "outputs": []
    }
  ]
}